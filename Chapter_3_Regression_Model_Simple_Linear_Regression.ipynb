{
  "nbformat": 4,
  "nbformat_minor": 0,
  "metadata": {
    "colab": {
      "name": "Chapter 3 : Regression Model : Simple Linear Regression",
      "provenance": [],
      "authorship_tag": "ABX9TyO7Be7Jh5ZVxVBevT3I3v/F",
      "include_colab_link": true
    },
    "kernelspec": {
      "name": "python3",
      "display_name": "Python 3"
    }
  },
  "cells": [
    {
      "cell_type": "markdown",
      "metadata": {
        "id": "view-in-github",
        "colab_type": "text"
      },
      "source": [
        "<a href=\"https://colab.research.google.com/github/ishanbhawantha/Python-for-Data-Science-Essential-Training-Part-2/blob/main/Chapter_3_Regression_Model_Simple_Linear_Regression.ipynb\" target=\"_parent\"><img src=\"https://colab.research.google.com/assets/colab-badge.svg\" alt=\"Open In Colab\"/></a>"
      ]
    },
    {
      "cell_type": "code",
      "metadata": {
        "id": "hUGlA_NzFR3o"
      },
      "source": [
        "import numpy as np\n",
        "import pandas as pd\n",
        "import matplotlib.pyplot as plt\n",
        "\n",
        "# Plotting parameters\n",
        "from pylab import rcParams \n",
        "\n",
        "# Import Linear Model\n",
        "from sklearn.linear_model import LinearRegression\n",
        "from sklearn.preprocessing import scale"
      ],
      "execution_count": 2,
      "outputs": []
    },
    {
      "cell_type": "code",
      "metadata": {
        "id": "OYPmHU9pGQ_4"
      },
      "source": [
        "%matplotlib inline\n",
        "rcParams['figure.figsize'] = 10,8"
      ],
      "execution_count": 3,
      "outputs": []
    }
  ]
}