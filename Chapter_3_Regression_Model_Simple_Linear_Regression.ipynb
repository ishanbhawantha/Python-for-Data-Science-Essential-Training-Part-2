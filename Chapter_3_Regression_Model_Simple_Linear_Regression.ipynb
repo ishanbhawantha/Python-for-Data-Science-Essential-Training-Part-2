{
  "nbformat": 4,
  "nbformat_minor": 0,
  "metadata": {
    "colab": {
      "name": "Chapter 3 : Regression Model : Simple Linear Regression",
      "provenance": [],
      "authorship_tag": "ABX9TyOsLt3IArrswbwBp1erTkC/",
      "include_colab_link": true
    },
    "kernelspec": {
      "name": "python3",
      "display_name": "Python 3"
    }
  },
  "cells": [
    {
      "cell_type": "markdown",
      "metadata": {
        "id": "view-in-github",
        "colab_type": "text"
      },
      "source": [
        "<a href=\"https://colab.research.google.com/github/ishanbhawantha/Python-for-Data-Science-Essential-Training-Part-2/blob/main/Chapter_3_Regression_Model_Simple_Linear_Regression.ipynb\" target=\"_parent\"><img src=\"https://colab.research.google.com/assets/colab-badge.svg\" alt=\"Open In Colab\"/></a>"
      ]
    },
    {
      "cell_type": "code",
      "metadata": {
        "id": "hUGlA_NzFR3o"
      },
      "source": [
        "import numpy as np\n",
        "import pandas as pd\n",
        "import matplotlib.pyplot as plt\n",
        "\n",
        "# Plotting parameters\n",
        "from pylab import rcParams \n",
        "\n",
        "# Import Linear Model\n",
        "from sklearn.linear_model import LinearRegression\n",
        "from sklearn.preprocessing import scale"
      ],
      "execution_count": 2,
      "outputs": []
    },
    {
      "cell_type": "code",
      "metadata": {
        "id": "OYPmHU9pGQ_4"
      },
      "source": [
        "%matplotlib inline\n",
        "rcParams['figure.figsize'] = 10,8"
      ],
      "execution_count": 3,
      "outputs": []
    },
    {
      "cell_type": "code",
      "metadata": {
        "id": "wa5gtuzZHH4_",
        "outputId": "ddee9979-af16-483a-a3d1-16d6a43bf94c",
        "colab": {
          "base_uri": "https://localhost:8080/",
          "height": 168
        }
      },
      "source": [
        "rooms = 2* np.random.rand(100,1)+3\n",
        "rooms[1:10]"
      ],
      "execution_count": 6,
      "outputs": [
        {
          "output_type": "execute_result",
          "data": {
            "text/plain": [
              "array([[3.08946435],\n",
              "       [3.47136935],\n",
              "       [3.85837769],\n",
              "       [3.40521763],\n",
              "       [4.5379695 ],\n",
              "       [3.03361059],\n",
              "       [4.04434783],\n",
              "       [4.57551816],\n",
              "       [4.65861218]])"
            ]
          },
          "metadata": {
            "tags": []
          },
          "execution_count": 6
        }
      ]
    },
    {
      "cell_type": "code",
      "metadata": {
        "id": "X1-j_Z2uHcpX",
        "outputId": "95d0df2b-d1c8-4285-afa9-f0f5c9126f52",
        "colab": {
          "base_uri": "https://localhost:8080/",
          "height": 168
        }
      },
      "source": [
        "price = 265 + 6*rooms +abs(np.random.randn(100,1))\n",
        "price[1:10]"
      ],
      "execution_count": 9,
      "outputs": [
        {
          "output_type": "execute_result",
          "data": {
            "text/plain": [
              "array([[283.62295411],\n",
              "       [287.31660742],\n",
              "       [289.32097082],\n",
              "       [286.5706577 ],\n",
              "       [294.30330866],\n",
              "       [284.34098408],\n",
              "       [290.14369028],\n",
              "       [293.51027609],\n",
              "       [295.00724215]])"
            ]
          },
          "metadata": {
            "tags": []
          },
          "execution_count": 9
        }
      ]
    },
    {
      "cell_type": "code",
      "metadata": {
        "id": "I9xEyKPiH15m",
        "outputId": "4993c83e-5329-4d13-81c1-6e2f57e272be",
        "colab": {
          "base_uri": "https://localhost:8080/",
          "height": 497
        }
      },
      "source": [
        "plt.plot(rooms,price,'r^')\n",
        "plt.xlabel('# of rooms, 2019 Average')\n",
        "plt.ylabel('2019 Average Home, 1000s USD')\n",
        "plt.show()"
      ],
      "execution_count": 12,
      "outputs": [
        {
          "output_type": "display_data",
          "data": {
            "image/png": "[encoded data removed]",
            "text/plain": [
              "<Figure size 720x576 with 1 Axes>"
            ]
          },
          "metadata": {
            "tags": [],
            "needs_background": "light"
          }
        }
      ]
    },
    {
      "cell_type": "code",
      "metadata": {
        "id": "tbtlZ5cBIpKr",
        "outputId": "43c5f60c-bf81-4e68-ea7c-8556aac3e1b1",
        "colab": {
          "base_uri": "https://localhost:8080/",
          "height": 34
        }
      },
      "source": [
        "X = rooms\n",
        "y = price\n",
        "\n",
        "LinReg = LinearRegression()\n",
        "LinReg.fit(X,y)\n",
        "print(LinReg.intercept_,LinReg.coef_)"
      ],
      "execution_count": 18,
      "outputs": [
        {
          "output_type": "stream",
          "text": [
            "[265.24245004] [[6.15392389]]\n"
          ],
          "name": "stdout"
        }
      ]
    },
    {
      "cell_type": "markdown",
      "metadata": {
        "id": "_EbEuY4LbSsg"
      },
      "source": [
        "Y = mX + b\n",
        "> b - intercept\n",
        "> c - coefftion"
      ]
    },
    {
      "cell_type": "code",
      "metadata": {
        "id": "jinOIGx5ItKD",
        "outputId": "931ca2ca-f12c-4d0c-9a6e-2f449a5057ea",
        "colab": {
          "base_uri": "https://localhost:8080/",
          "height": 34
        }
      },
      "source": [
        "print(LinReg.score(X,y))"
      ],
      "execution_count": 19,
      "outputs": [
        {
          "output_type": "stream",
          "text": [
            "0.9690576757309303\n"
          ],
          "name": "stdout"
        }
      ]
    }
  ]
}